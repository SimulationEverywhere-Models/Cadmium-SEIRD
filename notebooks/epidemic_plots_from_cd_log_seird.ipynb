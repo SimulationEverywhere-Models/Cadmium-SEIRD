{
 "cells": [
  {
   "cell_type": "markdown",
   "metadata": {
    "colab_type": "text",
    "id": "AscwXYIim18c"
   },
   "source": [
    "## Log parser"
   ]
  },
  {
   "cell_type": "code",
   "execution_count": 71,
   "metadata": {
    "colab": {},
    "colab_type": "code",
    "id": "2OZLLlhrpQU6"
   },
   "outputs": [],
   "source": [
    "import os\n",
    "import re\n",
    "from collections import defaultdict, OrderedDict"
   ]
  },
  {
   "cell_type": "code",
   "execution_count": 72,
   "metadata": {
    "colab": {},
    "colab_type": "code",
    "id": "rq5DTRC6kFH1"
   },
   "outputs": [],
   "source": [
    "#log_filename = \"data/wetransfer-13a737/VN_0.2_0.01.log\"\n",
    "log_filename = \"SEIRD_output_state.txt\"\n",
    "dim = 20,20\n",
    "patt_out_line = \"State for model (.+?) is <total_.*? ([0-9]+)>\""
   ]
  },
  {
   "cell_type": "code",
   "execution_count": 73,
   "metadata": {
    "colab": {},
    "colab_type": "code",
    "id": "8kBwi7m9wOhw"
   },
   "outputs": [],
   "source": [
    "COLOR_SUSCEPTIBLE = \"#3498db\"\n",
    "COLOR_INFECTED = \"#e74c3c\"\n",
    "COLOR_EXPOSED = \"#f1c40f\"\n",
    "COLOR_RECOVERED = \"#2ecc71\"\n",
    "COLOR_DEAD = \"#9b59b6\""
   ]
  },
  {
   "cell_type": "code",
   "execution_count": 75,
   "metadata": {},
   "outputs": [],
   "source": [
    "current_vals = OrderedDict()\n",
    "data = []\n",
    "\n",
    "with open(log_filename, \"r\") as log_file:\n",
    "    for line in log_file:\n",
    "        line = line.strip()\n",
    "        \n",
    "        if re.match(\"[0-9.]+\", line):\n",
    "            current_vals[\"time\"] = line\n",
    "            \n",
    "            if len(current_vals) > 1 and (len(data) == 0 or data[-1][0] != float(line)):\n",
    "                row = [float(current_vals[\"time\"])] + list(map(int, list(current_vals.values())[1:]))\n",
    "                data.append(row)\n",
    "            continue\n",
    "        \n",
    "        match = re.match(patt_out_line, line)\n",
    "        if not match:\n",
    "            raise RuntimeError(\"Unexpected line: '%s'\" % line)\n",
    "            \n",
    "        state, val = match.groups()\n",
    "        current_vals[state] = val"
   ]
  },
  {
   "cell_type": "code",
   "execution_count": 76,
   "metadata": {},
   "outputs": [
    {
     "data": {
      "text/plain": [
       "[[0.0, 0, 0, 100, 0, 99900],\n",
       " [0.1, 0, 0, 100, 0, 99900],\n",
       " [0.2, 0, 0, 100, 0, 99876]]"
      ]
     },
     "execution_count": 76,
     "metadata": {},
     "output_type": "execute_result"
    }
   ],
   "source": [
    "data[:3]"
   ]
  },
  {
   "cell_type": "markdown",
   "metadata": {
    "colab_type": "text",
    "id": "J30OnTRGyB19"
   },
   "source": [
    "## Dataframe creation and visualization"
   ]
  },
  {
   "cell_type": "code",
   "execution_count": 77,
   "metadata": {
    "colab": {},
    "colab_type": "code",
    "id": "WuysSoDOsQug"
   },
   "outputs": [],
   "source": [
    "import pandas as pd\n",
    "import numpy as np\n",
    "import matplotlib.pyplot as plt"
   ]
  },
  {
   "cell_type": "code",
   "execution_count": 78,
   "metadata": {
    "colab": {
     "base_uri": "https://localhost:8080/",
     "height": 238
    },
    "colab_type": "code",
    "executionInfo": {
     "elapsed": 604,
     "status": "ok",
     "timestamp": 1587157143030,
     "user": {
      "displayName": "Kevin Henares Vilaboa",
      "photoUrl": "",
      "userId": "08205634922900729001"
     },
     "user_tz": 240
    },
    "id": "261dyFX0xXzm",
    "outputId": "8f86212b-2cf3-4e59-bfe3-7bbb68b668e5"
   },
   "outputs": [
    {
     "data": {
      "text/html": [
       "<div>\n",
       "<style scoped>\n",
       "    .dataframe tbody tr th:only-of-type {\n",
       "        vertical-align: middle;\n",
       "    }\n",
       "\n",
       "    .dataframe tbody tr th {\n",
       "        vertical-align: top;\n",
       "    }\n",
       "\n",
       "    .dataframe thead th {\n",
       "        text-align: right;\n",
       "    }\n",
       "</style>\n",
       "<table border=\"1\" class=\"dataframe\">\n",
       "  <thead>\n",
       "    <tr style=\"text-align: right;\">\n",
       "      <th></th>\n",
       "      <th>time</th>\n",
       "      <th>recovered</th>\n",
       "      <th>deceased</th>\n",
       "      <th>infective</th>\n",
       "      <th>exposed</th>\n",
       "      <th>susceptible</th>\n",
       "    </tr>\n",
       "  </thead>\n",
       "  <tbody>\n",
       "    <tr>\n",
       "      <td>0</td>\n",
       "      <td>0.0</td>\n",
       "      <td>0</td>\n",
       "      <td>0</td>\n",
       "      <td>100</td>\n",
       "      <td>0</td>\n",
       "      <td>99900</td>\n",
       "    </tr>\n",
       "    <tr>\n",
       "      <td>1</td>\n",
       "      <td>0.1</td>\n",
       "      <td>0</td>\n",
       "      <td>0</td>\n",
       "      <td>100</td>\n",
       "      <td>0</td>\n",
       "      <td>99900</td>\n",
       "    </tr>\n",
       "    <tr>\n",
       "      <td>2</td>\n",
       "      <td>0.2</td>\n",
       "      <td>0</td>\n",
       "      <td>0</td>\n",
       "      <td>100</td>\n",
       "      <td>0</td>\n",
       "      <td>99876</td>\n",
       "    </tr>\n",
       "    <tr>\n",
       "      <td>3</td>\n",
       "      <td>0.3</td>\n",
       "      <td>0</td>\n",
       "      <td>0</td>\n",
       "      <td>100</td>\n",
       "      <td>24</td>\n",
       "      <td>99852</td>\n",
       "    </tr>\n",
       "    <tr>\n",
       "      <td>4</td>\n",
       "      <td>0.4</td>\n",
       "      <td>0</td>\n",
       "      <td>0</td>\n",
       "      <td>100</td>\n",
       "      <td>48</td>\n",
       "      <td>99828</td>\n",
       "    </tr>\n",
       "  </tbody>\n",
       "</table>\n",
       "</div>"
      ],
      "text/plain": [
       "   time  recovered  deceased  infective  exposed  susceptible\n",
       "0   0.0          0         0        100        0        99900\n",
       "1   0.1          0         0        100        0        99900\n",
       "2   0.2          0         0        100        0        99876\n",
       "3   0.3          0         0        100       24        99852\n",
       "4   0.4          0         0        100       48        99828"
      ]
     },
     "execution_count": 78,
     "metadata": {},
     "output_type": "execute_result"
    }
   ],
   "source": [
    "df = pd.DataFrame(data, columns=current_vals.keys())\n",
    "#df = df.set_index(\"time\")\n",
    "df.head()"
   ]
  },
  {
   "cell_type": "code",
   "execution_count": 85,
   "metadata": {},
   "outputs": [
    {
     "data": {
      "text/html": [
       "<div>\n",
       "<style scoped>\n",
       "    .dataframe tbody tr th:only-of-type {\n",
       "        vertical-align: middle;\n",
       "    }\n",
       "\n",
       "    .dataframe tbody tr th {\n",
       "        vertical-align: top;\n",
       "    }\n",
       "\n",
       "    .dataframe thead th {\n",
       "        text-align: right;\n",
       "    }\n",
       "</style>\n",
       "<table border=\"1\" class=\"dataframe\">\n",
       "  <thead>\n",
       "    <tr style=\"text-align: right;\">\n",
       "      <th></th>\n",
       "      <th>recovered</th>\n",
       "      <th>deceased</th>\n",
       "      <th>infective</th>\n",
       "      <th>exposed</th>\n",
       "      <th>susceptible</th>\n",
       "    </tr>\n",
       "    <tr>\n",
       "      <th>time</th>\n",
       "      <th></th>\n",
       "      <th></th>\n",
       "      <th></th>\n",
       "      <th></th>\n",
       "      <th></th>\n",
       "    </tr>\n",
       "  </thead>\n",
       "  <tbody>\n",
       "    <tr>\n",
       "      <td>0.0</td>\n",
       "      <td>0</td>\n",
       "      <td>0</td>\n",
       "      <td>100</td>\n",
       "      <td>0</td>\n",
       "      <td>99900</td>\n",
       "    </tr>\n",
       "    <tr>\n",
       "      <td>0.1</td>\n",
       "      <td>0</td>\n",
       "      <td>0</td>\n",
       "      <td>100</td>\n",
       "      <td>0</td>\n",
       "      <td>99900</td>\n",
       "    </tr>\n",
       "    <tr>\n",
       "      <td>0.2</td>\n",
       "      <td>0</td>\n",
       "      <td>0</td>\n",
       "      <td>100</td>\n",
       "      <td>0</td>\n",
       "      <td>99876</td>\n",
       "    </tr>\n",
       "    <tr>\n",
       "      <td>0.3</td>\n",
       "      <td>0</td>\n",
       "      <td>0</td>\n",
       "      <td>100</td>\n",
       "      <td>24</td>\n",
       "      <td>99852</td>\n",
       "    </tr>\n",
       "    <tr>\n",
       "      <td>0.4</td>\n",
       "      <td>0</td>\n",
       "      <td>0</td>\n",
       "      <td>100</td>\n",
       "      <td>48</td>\n",
       "      <td>99828</td>\n",
       "    </tr>\n",
       "  </tbody>\n",
       "</table>\n",
       "</div>"
      ],
      "text/plain": [
       "      recovered  deceased  infective  exposed  susceptible\n",
       "time                                                      \n",
       "0.0           0         0        100        0        99900\n",
       "0.1           0         0        100        0        99900\n",
       "0.2           0         0        100        0        99876\n",
       "0.3           0         0        100       24        99852\n",
       "0.4           0         0        100       48        99828"
      ]
     },
     "execution_count": 85,
     "metadata": {},
     "output_type": "execute_result"
    }
   ],
   "source": [
    "df_vis = df[df[\"time\"] < 125]\n",
    "df_vis = df_vis.set_index(\"time\")\n",
    "df_vis.head()"
   ]
  },
  {
   "cell_type": "code",
   "execution_count": 90,
   "metadata": {
    "colab": {
     "base_uri": "https://localhost:8080/",
     "height": 444
    },
    "colab_type": "code",
    "executionInfo": {
     "elapsed": 558,
     "status": "ok",
     "timestamp": 1587157371415,
     "user": {
      "displayName": "Kevin Henares Vilaboa",
      "photoUrl": "",
      "userId": "08205634922900729001"
     },
     "user_tz": 240
    },
    "id": "yRM4ikFU8tWd",
    "outputId": "af2be716-5ebf-47ba-f23d-0e5e2c7928ba"
   },
   "outputs": [
    {
     "data": {
      "image/png": "[encoded data removed]",
      "text/plain": [
       "<Figure size 864x504 with 1 Axes>"
      ]
     },
     "metadata": {
      "needs_background": "light"
     },
     "output_type": "display_data"
    }
   ],
   "source": [
    "base_name = os.path.splitext(os.path.basename(log_filename))[0]\n",
    "\n",
    "col_names = [\"infective\", \"recovered\", \"deceased\"]\n",
    "colors=[COLOR_INFECTED, COLOR_RECOVERED, COLOR_DEAD]\n",
    "\n",
    "x = list(df_vis.index)\n",
    "y = np.vstack([df_vis[col] for col in col_names])\n",
    "\n",
    "fig, ax = plt.subplots(figsize=(12,7))\n",
    "ax.stackplot(x, y, labels=col_names, colors=colors)\n",
    "plt.legend(loc='upper right')\n",
    "plt.margins(0,0)\n",
    "plt.title('Epidemic spread (SEIRD model)')\n",
    "#plt.show()\n",
    "plt.xlabel(\"Time (days)\")\n",
    "plt.ylabel(\"Population\")\n",
    "plt.savefig(base_name + \"_area.png\")"
   ]
  },
  {
   "cell_type": "code",
   "execution_count": 91,
   "metadata": {
    "colab": {},
    "colab_type": "code",
    "id": "OhoptHkLzUzA"
   },
   "outputs": [
    {
     "data": {
      "image/png": "[encoded data removed]",
      "text/plain": [
       "<Figure size 864x504 with 1 Axes>"
      ]
     },
     "metadata": {
      "needs_background": "light"
     },
     "output_type": "display_data"
    }
   ],
   "source": [
    "fig, ax = plt.subplots(figsize=(12,7))\n",
    "linewidth = 2\n",
    "\n",
    "x = list(df_vis.index)\n",
    "ax.plot(x, df_vis[\"susceptible\"], label=\"susceptible\", color=COLOR_SUSCEPTIBLE, linewidth=linewidth)\n",
    "#ax.plot(x, df_vis[\"exposed\"], label=\"exposed\", color=COLOR_EXPOSED, linewidth=linewidth)\n",
    "ax.plot(x, df_vis[\"infective\"], label=\"infective\", color=COLOR_INFECTED, linewidth=linewidth)\n",
    "ax.plot(x, df_vis[\"recovered\"], label=\"recovered\", color=COLOR_RECOVERED, linewidth=linewidth)\n",
    "ax.plot(x, df_vis[\"deceased\"], label=\"deceased\", color=COLOR_DEAD, linewidth=linewidth)\n",
    "plt.legend(loc='upper right')\n",
    "plt.margins(0,0)\n",
    "plt.title('Epidemic spread (SEIRD model)')\n",
    "plt.xlabel(\"Time (days)\")\n",
    "plt.ylabel(\"Population\")\n",
    "plt.savefig(base_name + \"_lines.png\")"
   ]
  },
  {
   "cell_type": "code",
   "execution_count": null,
   "metadata": {},
   "outputs": [],
   "source": []
  },
  {
   "cell_type": "code",
   "execution_count": null,
   "metadata": {},
   "outputs": [],
   "source": []
  }
 ],
 "metadata": {
  "colab": {
   "authorship_tag": "ABX9TyPKToubLSs613cwCNnTTmZC",
   "collapsed_sections": [],
   "name": "epidemic_plots_from_cd_log.ipynb",
   "provenance": []
  },
  "kernelspec": {
   "display_name": "Python3.7",
   "language": "python",
   "name": "python3.7"
  },
  "language_info": {
   "codemirror_mode": {
    "name": "ipython",
    "version": 3
   },
   "file_extension": ".py",
   "mimetype": "text/x-python",
   "name": "python",
   "nbconvert_exporter": "python",
   "pygments_lexer": "ipython3",
   "version": "3.7.4"
  }
 },
 "nbformat": 4,
 "nbformat_minor": 1
}
